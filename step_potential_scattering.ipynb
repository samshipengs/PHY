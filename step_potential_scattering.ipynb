{
 "cells": [
  {
   "cell_type": "code",
   "execution_count": 1,
   "metadata": {
    "collapsed": true
   },
   "outputs": [],
   "source": [
    "import numpy as np\n",
    "from scipy.integrate import quad\n",
    "import matplotlib.pyplot as plt\n",
    "%matplotlib inline"
   ]
  },
  {
   "cell_type": "code",
   "execution_count": null,
   "metadata": {
    "collapsed": true
   },
   "outputs": [],
   "source": [
    "# some constants\n",
    "beta = 4.\n",
    "K0 = 1\n",
    "\n",
    "upper_K = np.sqrt(2)\n",
    "lower_K = 0.\n",
    "\n",
    "def omega(K):\n",
    "    return 1. - K^2 + 1j*np.sqrt(2 - *K^2)\n",
    "\n",
    "def integrand(K):\n",
    "    return np.exp(-beta^2*(K-K0)^2)*np.exp(-1j*K^2*tau/2.)*(np.exp(1j*K*u)-np.exp(-1j*K*u)*omega(K))\n",
    "\n",
    "def integrand_square(u_input, tao_input):\n",
    "    return np.conjugate(Psi(u_input, tao_input))*Psi(u_input, tao_input)\n",
    "\n",
    "def Psi(u_input, tao_input):\n",
    "    u, tao = u_input, tao_input\n",
    "    return quad(integrand, lower_K, upper_K)[0]"
   ]
  },
  {
   "cell_type": "code",
   "execution_count": 7,
   "metadata": {},
   "outputs": [],
   "source": [
    "tau_line = np.arange(-10, 10, 0.01)\n",
    "u_line = np.arange(-10, 10, 0.01)"
   ]
  },
  {
   "cell_type": "code",
   "execution_count": null,
   "metadata": {
    "collapsed": true
   },
   "outputs": [],
   "source": []
  }
 ],
 "metadata": {
  "kernelspec": {
   "display_name": "Python 3",
   "language": "python",
   "name": "python3"
  },
  "language_info": {
   "codemirror_mode": {
    "name": "ipython",
    "version": 3
   },
   "file_extension": ".py",
   "mimetype": "text/x-python",
   "name": "python",
   "nbconvert_exporter": "python",
   "pygments_lexer": "ipython3",
   "version": "3.6.1"
  }
 },
 "nbformat": 4,
 "nbformat_minor": 2
}
